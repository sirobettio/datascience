{
 "cells": [
  {
   "cell_type": "code",
   "execution_count": 6,
   "metadata": {},
   "outputs": [
    {
     "name": "stdout",
     "output_type": "stream",
     "text": [
      "NOTE: Cloud Analytic Services made the uploaded file available as table TMPZ41LZ18V in caslib CASUSER(siro).\n",
      "NOTE: The table TMPZ41LZ18V has been created in caslib CASUSER(siro) from binary data uploaded to Cloud Analytic Services.\n",
      "Selected Rows from Table TMPZ41LZ18V\n",
      "\n",
      "    Make           Model   Type Origin DriveTrain      MSRP   Invoice  \\\n",
      "0  Acura             MDX    SUV   Asia        All  369450.0  333370.0   \n",
      "1  Acura  RSX Type S 2dr  Sedan   Asia      Front  238200.0  217610.0   \n",
      "2  Acura         TSX 4dr  Sedan   Asia      Front  269900.0  246470.0   \n",
      "3  Acura          TL 4dr  Sedan   Asia      Front  331950.0  302990.0   \n",
      "4  Acura      3.5 RL 4dr  Sedan   Asia      Front  437550.0  390140.0   \n",
      "\n",
      "   EngineSize  Cylinders  Horsepower  MPG_City  MPG_Highway   Weight  \\\n",
      "0        35.0       60.0      2650.0     170.0        230.0  44510.0   \n",
      "1        20.0       40.0      2000.0     240.0        310.0  27780.0   \n",
      "2        24.0       40.0      2000.0     220.0        290.0  32300.0   \n",
      "3        32.0       60.0      2700.0     200.0        280.0  35750.0   \n",
      "4        35.0       60.0      2250.0     180.0        240.0  38800.0   \n",
      "\n",
      "   Wheelbase  Length  \n",
      "0     1060.0  1890.0  \n",
      "1     1010.0  1720.0  \n",
      "2     1050.0  1830.0  \n",
      "3     1080.0  1860.0  \n",
      "4     1150.0  1970.0  \n",
      "+ Elapsed: 0.00034s, user: 0.000143s, sys: 0.000175s, mem: 0.195mb\n"
     ]
    }
   ],
   "source": [
    "import swat\n",
    "import os\n",
    "\n",
    "#os.environ['CAS_CLIENT_SSL_CA_LIST']=r\"C:/dev/viyacertificates/lab01-viya34smp/vault-ca.crt\"\n",
    "#os.environ['REQUESTS_CA_BUNDLE']=r\"C:/dev/viyacertificates/lab01-viya34smp/vault-ca.crt\"\n",
    "\n",
    "conn = swat.CAS('viya34smp.nordiclab.sashq-r.openstack.sas.com', 5570)\n",
    "csvtbl = conn.read_csv('https://raw.githubusercontent.com/sassoftware/sas-viya-programming/master/data/cars.csv')\n",
    "print(csvtbl.head())\n",
    "r=conn.session.endSession()\n",
    "print(r)"
   ]
  },
  {
   "cell_type": "code",
   "execution_count": null,
   "metadata": {},
   "outputs": [],
   "source": []
  }
 ],
 "metadata": {
  "kernelspec": {
   "display_name": "Python 3",
   "language": "python",
   "name": "python3"
  },
  "language_info": {
   "codemirror_mode": {
    "name": "ipython",
    "version": 3
   },
   "file_extension": ".py",
   "mimetype": "text/x-python",
   "name": "python",
   "nbconvert_exporter": "python",
   "pygments_lexer": "ipython3",
   "version": "3.6.2"
  }
 },
 "nbformat": 4,
 "nbformat_minor": 2
}
